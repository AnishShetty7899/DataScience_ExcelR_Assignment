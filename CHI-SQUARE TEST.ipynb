{
 "cells": [
  {
   "cell_type": "markdown",
   "id": "bca0b9d1-9459-4d7f-9db1-b08ef439f9b2",
   "metadata": {},
   "source": [
    "# Association between Device Type and Customer Satisfaction\n",
    "## Background:\n",
    "Mizzare Corporation has collected data on customer satisfaction levels for two types of smart home devices: Smart Thermostats and Smart Lights. They want to determine if there's a significant association between the type of device purchased and the customer's satisfaction level.\n",
    "## Objective:\n",
    "To use the Chi-Square test for independence to determine if there's a significant association between the type of smart home device purchased (Smart Thermostats vs. Smart Lights) and the customer satisfaction level.\n"
   ]
  },
  {
   "cell_type": "markdown",
   "id": "9c14a11c-015f-4e8e-8910-71bd5e8efed0",
   "metadata": {},
   "source": [
    "# Task"
   ]
  },
  {
   "cell_type": "markdown",
   "id": "361ddf79-586c-46a6-b4ff-c8580a5e55be",
   "metadata": {},
   "source": [
    "## 1. State the Hypotheses:"
   ]
  },
  {
   "cell_type": "markdown",
   "id": "69d6a55a-2f8c-4f7c-b4b6-3589b245b314",
   "metadata": {},
   "source": [
    "- **Null Hypothesis (H_0)**: There is no significant association between the type of smart home device purchased and customer satisfaction.\n",
    "- **Alternative Hypothesis (H_1)**: There is a significant association between the type of smart home device purchased and customer satisfaction."
   ]
  },
  {
   "cell_type": "markdown",
   "id": "e3086bde-4466-44cb-84c1-0f642f3cbc41",
   "metadata": {},
   "source": [
    "## 2. Compute the Chi-Square Statistic:"
   ]
  },
  {
   "cell_type": "code",
   "execution_count": 1,
   "id": "53f6a118-4e45-4a9d-8341-d65e611cb73b",
   "metadata": {},
   "outputs": [
    {
     "data": {
      "text/html": [
       "<div>\n",
       "<style scoped>\n",
       "    .dataframe tbody tr th:only-of-type {\n",
       "        vertical-align: middle;\n",
       "    }\n",
       "\n",
       "    .dataframe tbody tr th {\n",
       "        vertical-align: top;\n",
       "    }\n",
       "\n",
       "    .dataframe thead th {\n",
       "        text-align: right;\n",
       "    }\n",
       "</style>\n",
       "<table border=\"1\" class=\"dataframe\">\n",
       "  <thead>\n",
       "    <tr style=\"text-align: right;\">\n",
       "      <th></th>\n",
       "      <th>Satisfaction</th>\n",
       "      <th>Smart Thermostat</th>\n",
       "      <th>Smart Light</th>\n",
       "    </tr>\n",
       "  </thead>\n",
       "  <tbody>\n",
       "    <tr>\n",
       "      <th>0</th>\n",
       "      <td>Very Satisfied</td>\n",
       "      <td>50</td>\n",
       "      <td>70</td>\n",
       "    </tr>\n",
       "    <tr>\n",
       "      <th>1</th>\n",
       "      <td>Satisfied</td>\n",
       "      <td>80</td>\n",
       "      <td>100</td>\n",
       "    </tr>\n",
       "    <tr>\n",
       "      <th>2</th>\n",
       "      <td>Neutral</td>\n",
       "      <td>60</td>\n",
       "      <td>90</td>\n",
       "    </tr>\n",
       "    <tr>\n",
       "      <th>3</th>\n",
       "      <td>Unsatisfied</td>\n",
       "      <td>30</td>\n",
       "      <td>50</td>\n",
       "    </tr>\n",
       "    <tr>\n",
       "      <th>4</th>\n",
       "      <td>Very Unsatisfied</td>\n",
       "      <td>20</td>\n",
       "      <td>50</td>\n",
       "    </tr>\n",
       "  </tbody>\n",
       "</table>\n",
       "</div>"
      ],
      "text/plain": [
       "       Satisfaction  Smart Thermostat  Smart Light\n",
       "0    Very Satisfied                50           70\n",
       "1         Satisfied                80          100\n",
       "2           Neutral                60           90\n",
       "3       Unsatisfied                30           50\n",
       "4  Very Unsatisfied                20           50"
      ]
     },
     "execution_count": 1,
     "metadata": {},
     "output_type": "execute_result"
    }
   ],
   "source": [
    "# Import libraries\n",
    "import pandas as pd\n",
    "import numpy as np\n",
    "import scipy.stats as stats\n",
    "\n",
    "\n",
    "# Data \n",
    "data = {\n",
    "    \"Satisfaction\": [\"Very Satisfied\", \"Satisfied\", \"Neutral\", \"Unsatisfied\", \"Very Unsatisfied\"],\n",
    "    \"Smart Thermostat\": [50, 80, 60, 30, 20],\n",
    "    \"Smart Light\": [70, 100, 90, 50, 50]\n",
    "}\n",
    "\n",
    "# Create DataFrame\n",
    "df = pd.DataFrame(data)\n",
    "df"
   ]
  },
  {
   "cell_type": "code",
   "execution_count": 3,
   "id": "b2d9104a-1e46-44b7-9bf4-ccd172927d0a",
   "metadata": {},
   "outputs": [
    {
     "data": {
      "text/plain": [
       "5.638227513227513"
      ]
     },
     "execution_count": 3,
     "metadata": {},
     "output_type": "execute_result"
    }
   ],
   "source": [
    "# Create a table of observed frequencies\n",
    "observed = df[[\"Smart Thermostat\", \"Smart Light\"]].values\n",
    "\n",
    "# Perform the Chi-Square test\n",
    "chi2_stat, p_value, dof, expected = stats.chi2_contingency(observed)\n",
    "\n",
    "# Display results\n",
    "chi2_stat\n"
   ]
  },
  {
   "cell_type": "code",
   "execution_count": 4,
   "id": "5014b827-08ad-4423-b19b-47744cb10959",
   "metadata": {},
   "outputs": [
    {
     "data": {
      "text/plain": [
       "0.22784371130697179"
      ]
     },
     "execution_count": 4,
     "metadata": {},
     "output_type": "execute_result"
    }
   ],
   "source": [
    " p_value"
   ]
  },
  {
   "cell_type": "code",
   "execution_count": 5,
   "id": "93c8187e-d838-4878-9359-218f97b3a314",
   "metadata": {},
   "outputs": [
    {
     "data": {
      "text/plain": [
       "4"
      ]
     },
     "execution_count": 5,
     "metadata": {},
     "output_type": "execute_result"
    }
   ],
   "source": [
    " dof"
   ]
  },
  {
   "cell_type": "code",
   "execution_count": 6,
   "id": "35dc80ff-ae2d-4a5f-9c39-1217a647b3a6",
   "metadata": {},
   "outputs": [
    {
     "data": {
      "text/plain": [
       "array([[ 48.,  72.],\n",
       "       [ 72., 108.],\n",
       "       [ 60.,  90.],\n",
       "       [ 32.,  48.],\n",
       "       [ 28.,  42.]])"
      ]
     },
     "execution_count": 6,
     "metadata": {},
     "output_type": "execute_result"
    }
   ],
   "source": [
    "expected"
   ]
  },
  {
   "cell_type": "markdown",
   "id": "3704b9be-4d34-430c-b4e7-3b86bafbdd3a",
   "metadata": {},
   "source": [
    "## 3. Determine the Critical Value:\n",
    "Using the significance level (alpha) of 0.05 and the degrees of freedom (which is the number of categories minus 1)\n"
   ]
  },
  {
   "cell_type": "code",
   "execution_count": 9,
   "id": "4cba85f4-8186-498a-953e-9ac47cd033d1",
   "metadata": {},
   "outputs": [
    {
     "name": "stdout",
     "output_type": "stream",
     "text": [
      "Critical value: 9.487729036781154\n"
     ]
    }
   ],
   "source": [
    "# alpha \n",
    "alpha=0.05\n",
    "# critical value\n",
    "crit = stats.chi2.ppf(q = 1-alpha, # Find the critical value for 5% confidence*\n",
    "                      df = dof)   # Df = number of variable categories - 1\n",
    "print(\"Critical value:\", crit)"
   ]
  },
  {
   "cell_type": "markdown",
   "id": "ca74fe53-da37-434f-b101-205a92691b4c",
   "metadata": {},
   "source": [
    "## 4. Make a Decision:\n",
    "Compare the Chi-Square statistic with the critical value to decide whether to reject the null hypothesis.\n"
   ]
  },
  {
   "cell_type": "code",
   "execution_count": 10,
   "id": "c6dcfc48-d62f-4fd1-b9f4-5edaa996fe44",
   "metadata": {},
   "outputs": [
    {
     "name": "stdout",
     "output_type": "stream",
     "text": [
      "Fail to reject the null hypothesis. There is no significant association between the variables.\n"
     ]
    }
   ],
   "source": [
    "# Decision\n",
    "if chi2_stat > crit:\n",
    "    print(\"Reject the null hypothesis. There is a significant association between the variables.\")\n",
    "else:\n",
    "    print(\"Fail to reject the null hypothesis. There is no significant association between the variables.\")"
   ]
  },
  {
   "cell_type": "code",
   "execution_count": null,
   "id": "8d26bd68-ead1-48db-8b03-636a76f29d17",
   "metadata": {},
   "outputs": [],
   "source": []
  }
 ],
 "metadata": {
  "kernelspec": {
   "display_name": "Python 3 (ipykernel)",
   "language": "python",
   "name": "python3"
  },
  "language_info": {
   "codemirror_mode": {
    "name": "ipython",
    "version": 3
   },
   "file_extension": ".py",
   "mimetype": "text/x-python",
   "name": "python",
   "nbconvert_exporter": "python",
   "pygments_lexer": "ipython3",
   "version": "3.12.3"
  }
 },
 "nbformat": 4,
 "nbformat_minor": 5
}
