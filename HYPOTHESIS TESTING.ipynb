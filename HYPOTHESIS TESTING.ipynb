{
 "cells": [
  {
   "cell_type": "markdown",
   "id": "1023620e-4efc-4031-9cdf-bb3e6c417e09",
   "metadata": {},
   "source": [
    "## Background:\n",
    "Bombay hospitality Ltd. operates a franchise model for producing exotic Norwegian dinners throughout New England. The operating cost for a franchise in a week (W) is given by the equation W = $1,000 + $5X, where X represents the number of units produced in a week. Recent feedback from restaurant owners suggests that this cost model may no longer be accurate, as their observed weekly operating costs are higher.\n"
   ]
  },
  {
   "cell_type": "markdown",
   "id": "95643743-5f82-4c47-924a-486798c9acfb",
   "metadata": {},
   "source": [
    "## Objective: To investigate the restaurant owners' claim about the increase in weekly operating costs using hypothesis testing.\n",
    "## Data Provided:\n",
    "    •\tThe theoretical weekly operating cost model: W = $1,000 + $5X\n",
    "    •\tSample of 25 restaurants with a mean weekly cost of Rs. 3,050\n",
    "    •\tNumber of units produced in a week (X) follows a normal distribution with a mean (μ) of 600 units and a standard deviation (σ) of 25 units\n"
   ]
  },
  {
   "cell_type": "markdown",
   "id": "22177d07-419a-49ec-a1d5-09ec04dfb6cc",
   "metadata": {},
   "source": [
    "# Task"
   ]
  },
  {
   "cell_type": "markdown",
   "id": "8ed0062a-124a-41f7-848c-05b653a0df2a",
   "metadata": {},
   "source": [
    "## 1. State the Hypotheses statement:"
   ]
  },
  {
   "cell_type": "markdown",
   "id": "14a91e22-2127-4d5e-9561-10ccf7fe610d",
   "metadata": {},
   "source": [
    "\n",
    "\n",
    "The hypotheses are as follows:\n",
    "\n",
    "- **Null Hypothesis (H_0)**: The mean weekly operating cost for a restaurant is equal to the theoretical cost as predicted by the model.\n",
    "\n",
    "  H_0: u = u0\n",
    "\n",
    "- **Alternative Hypothesis (H_1)**: The mean weekly operating cost for a restaurant is greater than the theoretical cost.\n",
    "\n",
    "  H_1: u > u0\n"
   ]
  },
  {
   "cell_type": "markdown",
   "id": "d0cd2dac-98bb-49f0-92ad-42d6f390393b",
   "metadata": {},
   "source": [
    "## 2. Calculate the Test Statistic:"
   ]
  },
  {
   "cell_type": "code",
   "execution_count": 26,
   "id": "4ac1b0a9-5130-4738-85cd-439265b059fd",
   "metadata": {},
   "outputs": [],
   "source": [
    "# sample mean weekly cost\n",
    "x_bar=3050\n",
    "# Mean number of units produced in a week\n",
    "X=600\n",
    "# Standard deviation of units produced\n",
    "sigma_X = 25  \n",
    "# Sample size\n",
    "n = 25  "
   ]
  },
  {
   "cell_type": "code",
   "execution_count": 27,
   "id": "b9003645-5210-4b61-afc0-4f890bf881ff",
   "metadata": {},
   "outputs": [
    {
     "data": {
      "text/plain": [
       "4000"
      ]
     },
     "execution_count": 27,
     "metadata": {},
     "output_type": "execute_result"
    }
   ],
   "source": [
    "# Calculate the theoretical mean weekly cost\n",
    "u0=1000 + 5 * X\n",
    "u0"
   ]
  },
  {
   "cell_type": "code",
   "execution_count": 28,
   "id": "28f5ea7e-92ca-496f-bcf9-d3480f7c6100",
   "metadata": {},
   "outputs": [
    {
     "data": {
      "text/plain": [
       "125"
      ]
     },
     "execution_count": 28,
     "metadata": {},
     "output_type": "execute_result"
    }
   ],
   "source": [
    "# Calculate the standard deviation of weekly cost\n",
    "sigma=5 * sigma_X \n",
    "sigma"
   ]
  },
  {
   "cell_type": "markdown",
   "id": "fa32896b-5fd7-4c4f-bd32-f2eff8b872ad",
   "metadata": {},
   "source": [
    "### Test statstic formula \n",
    "     t-test=(x̄ - μ0)/(σ/√n)"
   ]
  },
  {
   "cell_type": "code",
   "execution_count": 29,
   "id": "2e47c19e-2697-44e8-b6eb-f0dfc409e52e",
   "metadata": {},
   "outputs": [
    {
     "name": "stdout",
     "output_type": "stream",
     "text": [
      "-38.0\n"
     ]
    }
   ],
   "source": [
    "import numpy as np\n",
    "# Calculate the test statistic\n",
    "t_stat=(x_bar-u0)/(sigma/np.sqrt(n))\n",
    "print(t_stat)"
   ]
  },
  {
   "cell_type": "markdown",
   "id": "ce23bb9c-dfdf-4d03-b659-d1ffd972293f",
   "metadata": {},
   "source": [
    "# 3. Determine the Critical Value:\n",
    "Using the alpha level of 5% (α = 0.05), determine the critical value from the standard normal (Z) distribution table.\n",
    "\n"
   ]
  },
  {
   "cell_type": "code",
   "execution_count": 30,
   "id": "fbb5436b-a798-4553-8c5c-3fd5bd09b068",
   "metadata": {},
   "outputs": [],
   "source": [
    "from scipy.stats import norm\n",
    "# Set the alpha level\n",
    "alpha = 0.05"
   ]
  },
  {
   "cell_type": "code",
   "execution_count": 31,
   "id": "c20102c5-76e3-44ec-bc44-64d78866ef39",
   "metadata": {},
   "outputs": [
    {
     "data": {
      "text/plain": [
       "1.6448536269514722"
      ]
     },
     "execution_count": 31,
     "metadata": {},
     "output_type": "execute_result"
    }
   ],
   "source": [
    "# Determine the critical value from the Z-distribution\n",
    "critical_value = norm.ppf(1 - alpha)\n",
    "critical_value"
   ]
  },
  {
   "cell_type": "markdown",
   "id": "d26ad9f9-5bc8-419f-99bd-c253dfeb6779",
   "metadata": {},
   "source": [
    "## 4. Make a Decision:\n",
    "Compare the test statistic with the critical value to decide whether to reject the null hypothesis.\n"
   ]
  },
  {
   "cell_type": "code",
   "execution_count": 32,
   "id": "e8adf5f6-ebeb-41a4-b9ac-35b3723ed78c",
   "metadata": {},
   "outputs": [
    {
     "data": {
      "text/plain": [
       "False"
      ]
     },
     "execution_count": 32,
     "metadata": {},
     "output_type": "execute_result"
    }
   ],
   "source": [
    "# Reject H0 if t > critical_value\n",
    "reject_null = t_stat > critical_value\n",
    "reject_null\n"
   ]
  },
  {
   "cell_type": "markdown",
   "id": "e8be8442-a995-4295-b019-3c7d81189078",
   "metadata": {},
   "source": [
    "## 5. Conclusion:\n",
    "Based on the decision in step 4, conclude whether there is strong evidence to support the restaurant owners' claim that the weekly operating costs are higher than the model suggests.\n",
    "\n"
   ]
  },
  {
   "cell_type": "code",
   "execution_count": 33,
   "id": "0945c4a6-6422-4459-8602-0efe7ce6a667",
   "metadata": {},
   "outputs": [
    {
     "name": "stdout",
     "output_type": "stream",
     "text": [
      "Fail to reject the null hypothesis: There is not enough evidence to support the claim that the weekly operating costs are higher.\n"
     ]
    }
   ],
   "source": [
    "if reject_null:\n",
    "    print(\"Reject the null hypothesis: There is strong evidence that the weekly operating costs are higher than the model suggests.\")\n",
    "else:\n",
    "    print(\"Fail to reject the null hypothesis: There is not enough evidence to support the claim that the weekly operating costs are higher.\")\n"
   ]
  },
  {
   "cell_type": "code",
   "execution_count": null,
   "id": "0c7ed1a6-44e2-41a1-8241-fe288c9ea037",
   "metadata": {},
   "outputs": [],
   "source": []
  }
 ],
 "metadata": {
  "kernelspec": {
   "display_name": "Python 3 (ipykernel)",
   "language": "python",
   "name": "python3"
  },
  "language_info": {
   "codemirror_mode": {
    "name": "ipython",
    "version": 3
   },
   "file_extension": ".py",
   "mimetype": "text/x-python",
   "name": "python",
   "nbconvert_exporter": "python",
   "pygments_lexer": "ipython3",
   "version": "3.12.3"
  }
 },
 "nbformat": 4,
 "nbformat_minor": 5
}
