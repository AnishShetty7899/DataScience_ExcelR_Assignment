{
 "cells": [
  {
   "cell_type": "markdown",
   "id": "733d8401-3682-41f3-9bd6-bc1d1f03535a",
   "metadata": {},
   "source": [
    "# Exercise 1: Prime Numbers\n",
    "## Write a Python program that checks whether a given number is prime or not. A prime number is a natural number greater than 1 that has no positive divisors other than 1 and itself.\n"
   ]
  },
  {
   "cell_type": "code",
   "execution_count": 8,
   "id": "e0d7dfd8-39b8-4140-a6cc-7bc32805daf0",
   "metadata": {},
   "outputs": [
    {
     "name": "stdin",
     "output_type": "stream",
     "text": [
      "Enter the number:  16\n"
     ]
    },
    {
     "name": "stdout",
     "output_type": "stream",
     "text": [
      "The given number 16 is not a Prime Number\n"
     ]
    }
   ],
   "source": [
    "n=int(input('Enter the number: '))\n",
    "flag=False\n",
    "if n <= 1 :\n",
    "    print(f'The number {n} is not prime number')\n",
    "elif n > 1:\n",
    "    for i in range(2,n):\n",
    "        if n % i == 0:\n",
    "            flag=True\n",
    "            break\n",
    "if flag:\n",
    "    print(f'The given number {n} is not a Prime Number')\n",
    "else:\n",
    "    print(f'The given number {n} is a Prime Number')\n",
    "    "
   ]
  },
  {
   "cell_type": "markdown",
   "id": "8e81732c-8af0-4b9b-839e-e885dadf6104",
   "metadata": {},
   "source": [
    "# Exercise 2: Product of Random Numbers\n",
    "## Develop a Python program that generates two random numbers and asks the user to enter the product of these numbers. The program should then check if the user's answer is correct and display an appropriate message.\n"
   ]
  },
  {
   "cell_type": "code",
   "execution_count": 9,
   "id": "a1dd053c-8b59-40cc-9f24-05d639c1dc63",
   "metadata": {},
   "outputs": [],
   "source": [
    "import random\n"
   ]
  },
  {
   "cell_type": "code",
   "execution_count": 12,
   "id": "8c10d628-09fe-49a5-8a9b-7251fb557c7d",
   "metadata": {},
   "outputs": [
    {
     "name": "stdout",
     "output_type": "stream",
     "text": [
      "Let's play....Now its time guess!!...\n",
      "The number is between 1 to 100....\n"
     ]
    },
    {
     "name": "stdin",
     "output_type": "stream",
     "text": [
      "Enter the guess product:  30\n"
     ]
    },
    {
     "name": "stdout",
     "output_type": "stream",
     "text": [
      "You Lost..!\n",
      "Auctual product: 70\n"
     ]
    }
   ],
   "source": [
    "n1=random.randint(1,10)\n",
    "n2=random.randint(1,10)\n",
    "product=n1*n2\n",
    "print(\"Let's play....Now its time guess!!...\")\n",
    "print('The number is between 1 to 100....')\n",
    "user=int(input('Enter the guess product: '))\n",
    "\n",
    "if product == user:\n",
    "    print(\"Congrulation...!, You won!...\")\n",
    "    print(f'You have guessed correct Product {product}')\n",
    "else:\n",
    "    print('You Lost..!')\n",
    "    print(f'Auctual product: {product}')"
   ]
  },
  {
   "cell_type": "markdown",
   "id": "40e9ab05-4141-4c41-a9e9-33afea356f98",
   "metadata": {},
   "source": [
    "# Exercise 3: Squares of Even/Odd Numbers\n",
    "## Create a Python script that prints the squares of all even or odd numbers within the range of 100 to 200. Choose either even or odd numbers and document your choice in the code.\n"
   ]
  },
  {
   "cell_type": "code",
   "execution_count": 8,
   "id": "fb5f2240-3d3d-4bf3-b18e-230f0f76fdd4",
   "metadata": {},
   "outputs": [
    {
     "name": "stdin",
     "output_type": "stream",
     "text": [
      "Enter the input element between 100 to 200:  108\n"
     ]
    },
    {
     "name": "stdout",
     "output_type": "stream",
     "text": [
      "Congrats!!..You entred proper number..\n",
      "Entred number is even number.....\n",
      "Squre of number is :  11664\n"
     ]
    }
   ],
   "source": [
    "import sys\n",
    "n=int(input(\"Enter the input element between 100 to 200: \"))\n",
    "if n < 100 or n> 200:\n",
    "     print('Enter the number in the range..')\n",
    "     sys.exit()\n",
    "else:\n",
    "    print('Congrats!!..You entred proper number..')\n",
    "    if n%2 == 0:\n",
    "     print('Entred number is even number.....')\n",
    "     print('Squre of number is : ',n**2)\n",
    "    else:\n",
    "     print('Entred number is odd number.....')\n",
    "     print('Squre of number is : ',n**2)\n",
    "    "
   ]
  },
  {
   "cell_type": "code",
   "execution_count": 9,
   "id": "51360873-f072-4daa-83c9-ee2b71052434",
   "metadata": {},
   "outputs": [
    {
     "name": "stdout",
     "output_type": "stream",
     "text": [
      "The square of 100 is 10000\n",
      "The square of 102 is 10404\n",
      "The square of 104 is 10816\n",
      "The square of 106 is 11236\n",
      "The square of 108 is 11664\n",
      "The square of 110 is 12100\n",
      "The square of 112 is 12544\n",
      "The square of 114 is 12996\n",
      "The square of 116 is 13456\n",
      "The square of 118 is 13924\n",
      "The square of 120 is 14400\n",
      "The square of 122 is 14884\n",
      "The square of 124 is 15376\n",
      "The square of 126 is 15876\n",
      "The square of 128 is 16384\n",
      "The square of 130 is 16900\n",
      "The square of 132 is 17424\n",
      "The square of 134 is 17956\n",
      "The square of 136 is 18496\n",
      "The square of 138 is 19044\n",
      "The square of 140 is 19600\n",
      "The square of 142 is 20164\n",
      "The square of 144 is 20736\n",
      "The square of 146 is 21316\n",
      "The square of 148 is 21904\n",
      "The square of 150 is 22500\n",
      "The square of 152 is 23104\n",
      "The square of 154 is 23716\n",
      "The square of 156 is 24336\n",
      "The square of 158 is 24964\n",
      "The square of 160 is 25600\n",
      "The square of 162 is 26244\n",
      "The square of 164 is 26896\n",
      "The square of 166 is 27556\n",
      "The square of 168 is 28224\n",
      "The square of 170 is 28900\n",
      "The square of 172 is 29584\n",
      "The square of 174 is 30276\n",
      "The square of 176 is 30976\n",
      "The square of 178 is 31684\n",
      "The square of 180 is 32400\n",
      "The square of 182 is 33124\n",
      "The square of 184 is 33856\n",
      "The square of 186 is 34596\n",
      "The square of 188 is 35344\n",
      "The square of 190 is 36100\n",
      "The square of 192 is 36864\n",
      "The square of 194 is 37636\n",
      "The square of 196 is 38416\n",
      "The square of 198 is 39204\n",
      "The square of 200 is 40000\n"
     ]
    }
   ],
   "source": [
    "# This script prints the squares of all even numbers within the range of 100 to 200.\n",
    "\n",
    "# Loop through the range of numbers from 100 to 200 (inclusive)\n",
    "for n in range(100, 201):\n",
    "    if n % 2 == 0:\n",
    "        square = n ** 2\n",
    "        print(f'The square of {n} is {square}')"
   ]
  },
  {
   "cell_type": "code",
   "execution_count": 10,
   "id": "a93b4fb2-e991-4520-922d-68477720cf1b",
   "metadata": {},
   "outputs": [
    {
     "name": "stdout",
     "output_type": "stream",
     "text": [
      "The square of 101 is 10201\n",
      "The square of 103 is 10609\n",
      "The square of 105 is 11025\n",
      "The square of 107 is 11449\n",
      "The square of 109 is 11881\n",
      "The square of 111 is 12321\n",
      "The square of 113 is 12769\n",
      "The square of 115 is 13225\n",
      "The square of 117 is 13689\n",
      "The square of 119 is 14161\n",
      "The square of 121 is 14641\n",
      "The square of 123 is 15129\n",
      "The square of 125 is 15625\n",
      "The square of 127 is 16129\n",
      "The square of 129 is 16641\n",
      "The square of 131 is 17161\n",
      "The square of 133 is 17689\n",
      "The square of 135 is 18225\n",
      "The square of 137 is 18769\n",
      "The square of 139 is 19321\n",
      "The square of 141 is 19881\n",
      "The square of 143 is 20449\n",
      "The square of 145 is 21025\n",
      "The square of 147 is 21609\n",
      "The square of 149 is 22201\n",
      "The square of 151 is 22801\n",
      "The square of 153 is 23409\n",
      "The square of 155 is 24025\n",
      "The square of 157 is 24649\n",
      "The square of 159 is 25281\n",
      "The square of 161 is 25921\n",
      "The square of 163 is 26569\n",
      "The square of 165 is 27225\n",
      "The square of 167 is 27889\n",
      "The square of 169 is 28561\n",
      "The square of 171 is 29241\n",
      "The square of 173 is 29929\n",
      "The square of 175 is 30625\n",
      "The square of 177 is 31329\n",
      "The square of 179 is 32041\n",
      "The square of 181 is 32761\n",
      "The square of 183 is 33489\n",
      "The square of 185 is 34225\n",
      "The square of 187 is 34969\n",
      "The square of 189 is 35721\n",
      "The square of 191 is 36481\n",
      "The square of 193 is 37249\n",
      "The square of 195 is 38025\n",
      "The square of 197 is 38809\n",
      "The square of 199 is 39601\n"
     ]
    }
   ],
   "source": [
    "for n in range(100, 201):\n",
    "    if n % 2 == 1:\n",
    "        square = n ** 2\n",
    "        print(f'The square of {n} is {square}')"
   ]
  },
  {
   "cell_type": "markdown",
   "id": "d57f29d8-4e99-4272-ab65-9325b1355bd2",
   "metadata": {},
   "source": [
    "# Exercise 4: Word counter"
   ]
  },
  {
   "cell_type": "raw",
   "id": "ba515a95-0b54-49d3-9630-22132a8a70f3",
   "metadata": {},
   "source": [
    "Write a program to count the number of words in a given text.\n",
    "example:\n",
    "input_text = \"This is a sample text. This text will be used to demonstrate the word counter.\"\n",
    "Expected output:\n",
    "'This': 2 \n",
    "'is': 1\n",
    "'a': 1\n",
    "'sample': 1\n",
    "'text.': 1"
   ]
  },
  {
   "cell_type": "code",
   "execution_count": 17,
   "id": "7b869d1a-45cc-4094-8b3b-c4a33f9e344a",
   "metadata": {},
   "outputs": [
    {
     "name": "stdin",
     "output_type": "stream",
     "text": [
      "Please enter the text:   this is my! this is > this am !!.\n"
     ]
    },
    {
     "name": "stdout",
     "output_type": "stream",
     "text": [
      "{'this': 3, 'is': 2, 'my': 1, 'am': 1}\n",
      "'this': 3\n",
      "'is': 2\n",
      "'my': 1\n",
      "'am': 1\n"
     ]
    }
   ],
   "source": [
    "input_text = input(\"Please enter the text: \")\n",
    "\n",
    "# Define a set of punctuation marks to remove\n",
    "punctuations = '''!()-[]{};:'\",<>./?@#$%^&*_~'''\n",
    "\n",
    "# Convert text to lowercase manually and remove punctuation\n",
    "cleaned_text = \"\"\n",
    "for char in input_text:\n",
    "    if char in punctuations:\n",
    "        cleaned_text += \" \" # adding space where there is puncuation mark found\n",
    "    else:\n",
    "        cleaned_text += char.lower()  # Convert to lowercase\n",
    "\n",
    "\n",
    "\n",
    "# Split the text into words manually\n",
    "words = []\n",
    "current_word = \"\"\n",
    "for char in cleaned_text:\n",
    "    if char == \" \":\n",
    "        if current_word:  # If current_word is not empty, add it to words list\n",
    "            words.append(current_word)\n",
    "            current_word = \"\"\n",
    "    else:\n",
    "        current_word += char\n",
    "# Add the last word if the text does not end with a space\n",
    "if current_word:\n",
    "    words.append(current_word)\n",
    "\n",
    "# Count the occurrences of each word manually\n",
    "word_counts = {}\n",
    "for word in words:\n",
    "    if word in word_counts:\n",
    "        word_counts[word] += 1\n",
    "    else:\n",
    "        word_counts[word] = 1\n",
    "print(word_counts)\n",
    "\n",
    "# Print the results\n",
    "for word, count in word_counts.items():\n",
    "    print(f\"'{word}': {count}\")"
   ]
  },
  {
   "cell_type": "markdown",
   "id": "c1b365b1-0d96-4402-8b64-73ac7496de42",
   "metadata": {},
   "source": [
    "# Exercise 5: Check for Palindrome"
   ]
  },
  {
   "cell_type": "raw",
   "id": "b6c3d76d-db4b-4962-a9e6-6d96c2988199",
   "metadata": {},
   "source": [
    "Write a Python function called is_palindrome that takes a string as input and returns True if the string is a palindrome, and False otherwise. A palindrome is a word, phrase, number, or other sequence of characters that reads the same forward and backward, ignoring spaces, punctuation, and capitalization.\n",
    "Example:\n",
    "Input: \"racecar\"\n",
    "Expected Output: True"
   ]
  },
  {
   "cell_type": "code",
   "execution_count": 24,
   "id": "977e494f-aaf6-4896-abe6-3d3dd4ae69c7",
   "metadata": {},
   "outputs": [
    {
     "name": "stdin",
     "output_type": "stream",
     "text": [
      "Enter the input string :  anishsina\n"
     ]
    },
    {
     "name": "stdout",
     "output_type": "stream",
     "text": [
      "True\n"
     ]
    }
   ],
   "source": [
    "def is_palindrome(input_string):\n",
    "    # Remove non-alphanumeric characters and convert to lowercase\n",
    "    cleaned_string = \"\"\n",
    "    for char in input_string:\n",
    "        if ('A' <= char <= 'Z') or ('a' <= char <= 'z') or ('0' <= char <= '9'):\n",
    "            cleaned_string += char.lower()  # Convert to lowercase and add to the cleaned string\n",
    "\n",
    "\n",
    "    # Check if cleaned_string is the same forwards and backwards\n",
    "    return cleaned_string == cleaned_string[::-1]\n",
    "# printing output\n",
    "input_str = input('Enter the input string : ')\n",
    "print(is_palindrome(input_str))"
   ]
  },
  {
   "cell_type": "code",
   "execution_count": null,
   "id": "037cb2d8-97c0-4e7f-88c2-3cf0401317ff",
   "metadata": {},
   "outputs": [],
   "source": []
  }
 ],
 "metadata": {
  "kernelspec": {
   "display_name": "Python 3 (ipykernel)",
   "language": "python",
   "name": "python3"
  },
  "language_info": {
   "codemirror_mode": {
    "name": "ipython",
    "version": 3
   },
   "file_extension": ".py",
   "mimetype": "text/x-python",
   "name": "python",
   "nbconvert_exporter": "python",
   "pygments_lexer": "ipython3",
   "version": "3.12.3"
  }
 },
 "nbformat": 4,
 "nbformat_minor": 5
}
