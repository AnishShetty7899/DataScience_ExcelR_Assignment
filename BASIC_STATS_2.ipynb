{
 "cells": [
  {
   "cell_type": "markdown",
   "id": "84fc1471-0be0-4285-8901-07542f98121b",
   "metadata": {},
   "source": [
    "# Estimation And Confidence Intervals"
   ]
  },
  {
   "cell_type": "code",
   "execution_count": 22,
   "id": "a4ba6e1a-e523-4e84-8603-1b53492c5b64",
   "metadata": {},
   "outputs": [],
   "source": [
    "# import libaries\n",
    "import pandas as pd\n",
    "import scipy.stats as st\n",
    "import math"
   ]
  },
  {
   "cell_type": "markdown",
   "id": "249acb9f-bf19-4f4f-992a-3b07ee1d91e5",
   "metadata": {},
   "source": [
    "## Background"
   ]
  },
  {
   "cell_type": "raw",
   "id": "3a796e3f-ee63-4f7b-8ec0-62469d968d0b",
   "metadata": {},
   "source": [
    "In quality control processes, especially when dealing with high-value items, destructive sampling is a necessary but costly method to ensure product quality. The test to determine whether an item meets the quality standards destroys the item, leading to the requirement of small sample sizes due to cost constraints."
   ]
  },
  {
   "cell_type": "markdown",
   "id": "ba9430ac-eda5-4103-bd49-efd540c9414e",
   "metadata": {},
   "source": [
    "## Scenario"
   ]
  },
  {
   "cell_type": "raw",
   "id": "2145a515-23ac-4525-a49f-40768ebc3512",
   "metadata": {},
   "source": [
    "A manufacturer of print-heads for personal computers is interested in estimating the mean durability of their print-heads in terms of the number of characters printed before failure. To assess this, the manufacturer conducts a study on a small sample of print-heads due to the destructive nature of the testing process."
   ]
  },
  {
   "cell_type": "markdown",
   "id": "7c5e9129-5165-434f-96c9-1a426c8209fc",
   "metadata": {},
   "source": [
    "## Data"
   ]
  },
  {
   "cell_type": "code",
   "execution_count": 4,
   "id": "5254ba8e-9bb1-49c7-b961-810132787055",
   "metadata": {},
   "outputs": [],
   "source": [
    "x=[1.13, 1.55, 1.43, 0.92, 1.25, 1.36, 1.32, 0.85, 1.07, 1.48, 1.20, 1.33, 1.18, 1.22, 1.29]"
   ]
  },
  {
   "cell_type": "markdown",
   "id": "bd85803e-94dc-4223-9bf5-fbefe7c459c7",
   "metadata": {},
   "source": [
    "### 1) Build 99% Confidence Interval Using Sample Standard Deviation"
   ]
  },
  {
   "cell_type": "raw",
   "id": "3d712d82-06f9-4d5b-8d88-169fa5d6b365",
   "metadata": {},
   "source": [
    "Confidence Interval = ‾X ± Z(S ÷ √n)\n",
    "‾X: sample mean\n",
    "Z: Z that corresponds to the confidence level\n",
    "S: sample standard deviation\n",
    "n: sample size\n",
    "\n",
    "The steps you taken:\n",
    "step 1: Calculate mean ‾X\n",
    "step 2: degrees of freedom ie: deg_of_free = data_sample_size-1\n",
    "step 3: check Z critical value from table for calculated deg_of_free and confidence interval 99%\n",
    "step 4: calculate sample standard deviation i.e. S\n",
    "step 5: calculate the confidence interval by using formula ‾X ± Z(S ÷ √n)\n",
    "\n",
    "Rationale behind using the t-distribution :\n",
    "--> t-distribution should be used if the population sample size is small and the standard deviation is unknown. If not, then the normal distribution should be used.\n",
    "In this case :\n",
    "--> Sample size is 15 ie: less than 30. If the sample size is less than 30 use t test and if sample size is grater than 30 use z test for accuracy.\n"
   ]
  },
  {
   "cell_type": "code",
   "execution_count": 5,
   "id": "d061d9da-fcfd-4a35-b63c-633ce895e72c",
   "metadata": {},
   "outputs": [
    {
     "data": {
      "text/html": [
       "<div>\n",
       "<style scoped>\n",
       "    .dataframe tbody tr th:only-of-type {\n",
       "        vertical-align: middle;\n",
       "    }\n",
       "\n",
       "    .dataframe tbody tr th {\n",
       "        vertical-align: top;\n",
       "    }\n",
       "\n",
       "    .dataframe thead th {\n",
       "        text-align: right;\n",
       "    }\n",
       "</style>\n",
       "<table border=\"1\" class=\"dataframe\">\n",
       "  <thead>\n",
       "    <tr style=\"text-align: right;\">\n",
       "      <th></th>\n",
       "      <th>0</th>\n",
       "    </tr>\n",
       "  </thead>\n",
       "  <tbody>\n",
       "    <tr>\n",
       "      <th>0</th>\n",
       "      <td>1.13</td>\n",
       "    </tr>\n",
       "    <tr>\n",
       "      <th>1</th>\n",
       "      <td>1.55</td>\n",
       "    </tr>\n",
       "    <tr>\n",
       "      <th>2</th>\n",
       "      <td>1.43</td>\n",
       "    </tr>\n",
       "    <tr>\n",
       "      <th>3</th>\n",
       "      <td>0.92</td>\n",
       "    </tr>\n",
       "    <tr>\n",
       "      <th>4</th>\n",
       "      <td>1.25</td>\n",
       "    </tr>\n",
       "    <tr>\n",
       "      <th>5</th>\n",
       "      <td>1.36</td>\n",
       "    </tr>\n",
       "    <tr>\n",
       "      <th>6</th>\n",
       "      <td>1.32</td>\n",
       "    </tr>\n",
       "    <tr>\n",
       "      <th>7</th>\n",
       "      <td>0.85</td>\n",
       "    </tr>\n",
       "    <tr>\n",
       "      <th>8</th>\n",
       "      <td>1.07</td>\n",
       "    </tr>\n",
       "    <tr>\n",
       "      <th>9</th>\n",
       "      <td>1.48</td>\n",
       "    </tr>\n",
       "    <tr>\n",
       "      <th>10</th>\n",
       "      <td>1.20</td>\n",
       "    </tr>\n",
       "    <tr>\n",
       "      <th>11</th>\n",
       "      <td>1.33</td>\n",
       "    </tr>\n",
       "    <tr>\n",
       "      <th>12</th>\n",
       "      <td>1.18</td>\n",
       "    </tr>\n",
       "    <tr>\n",
       "      <th>13</th>\n",
       "      <td>1.22</td>\n",
       "    </tr>\n",
       "    <tr>\n",
       "      <th>14</th>\n",
       "      <td>1.29</td>\n",
       "    </tr>\n",
       "  </tbody>\n",
       "</table>\n",
       "</div>"
      ],
      "text/plain": [
       "       0\n",
       "0   1.13\n",
       "1   1.55\n",
       "2   1.43\n",
       "3   0.92\n",
       "4   1.25\n",
       "5   1.36\n",
       "6   1.32\n",
       "7   0.85\n",
       "8   1.07\n",
       "9   1.48\n",
       "10  1.20\n",
       "11  1.33\n",
       "12  1.18\n",
       "13  1.22\n",
       "14  1.29"
      ]
     },
     "execution_count": 5,
     "metadata": {},
     "output_type": "execute_result"
    }
   ],
   "source": [
    "# coverting list to dataframe\n",
    "X=pd.DataFrame(x)\n",
    "X"
   ]
  },
  {
   "cell_type": "code",
   "execution_count": 6,
   "id": "db8d13bd-5141-4a14-aa50-9f9df29e7d7d",
   "metadata": {},
   "outputs": [
    {
     "data": {
      "text/plain": [
       "14"
      ]
     },
     "execution_count": 6,
     "metadata": {},
     "output_type": "execute_result"
    }
   ],
   "source": [
    "# Degree of freedom\n",
    "deg_of_free = len(X)-1\n",
    "deg_of_free"
   ]
  },
  {
   "cell_type": "code",
   "execution_count": 7,
   "id": "15da26a1-c141-4576-8403-50401c880bcc",
   "metadata": {},
   "outputs": [
    {
     "data": {
      "text/plain": [
       "0    1.238667\n",
       "dtype: float64"
      ]
     },
     "execution_count": 7,
     "metadata": {},
     "output_type": "execute_result"
    }
   ],
   "source": [
    "# calculating mean of the sample i.e. x\n",
    "X_mean=X.mean()\n",
    "X_mean"
   ]
  },
  {
   "cell_type": "code",
   "execution_count": 26,
   "id": "af2393e1-64b5-48a7-97c4-5f548186079a",
   "metadata": {},
   "outputs": [
    {
     "data": {
      "text/plain": [
       "(array([1.09019734]), array([1.38713599]))"
      ]
     },
     "execution_count": 26,
     "metadata": {},
     "output_type": "execute_result"
    }
   ],
   "source": [
    "# create 99% confidence interval \n",
    "COI_fun=st.t.interval(confidence=0.99, \n",
    "              df=deg_of_free, \n",
    "              loc=X_mean,  \n",
    "              scale=st.sem(X))\n",
    "COI_fun"
   ]
  },
  {
   "cell_type": "code",
   "execution_count": 14,
   "id": "dc2de7bb-385a-438c-9f12-b40fa211f72f",
   "metadata": {},
   "outputs": [
    {
     "data": {
      "text/plain": [
       "0    0.193164\n",
       "dtype: float64"
      ]
     },
     "execution_count": 14,
     "metadata": {},
     "output_type": "execute_result"
    }
   ],
   "source": [
    "# calculate standered Deviation\n",
    "X_std=X.std()\n",
    "X_std"
   ]
  },
  {
   "cell_type": "code",
   "execution_count": 15,
   "id": "8b020d88-5784-4d7d-b4f9-d35832ac0e64",
   "metadata": {},
   "outputs": [
    {
     "data": {
      "text/plain": [
       "2.976842734370834"
      ]
     },
     "execution_count": 15,
     "metadata": {},
     "output_type": "execute_result"
    }
   ],
   "source": [
    "# calculate crictical value \n",
    "Z=st.t.ppf(q=1-0.005,df=deg_of_free)\n",
    "Z"
   ]
  },
  {
   "cell_type": "code",
   "execution_count": 17,
   "id": "1f332c96-c643-4859-8a88-558509c07289",
   "metadata": {},
   "outputs": [
    {
     "data": {
      "text/plain": [
       "15"
      ]
     },
     "execution_count": 17,
     "metadata": {},
     "output_type": "execute_result"
    }
   ],
   "source": [
    "# length of data \n",
    "n=len(X)\n",
    "n"
   ]
  },
  {
   "cell_type": "code",
   "execution_count": 27,
   "id": "a00c70d3-c3e2-401d-92bc-f04b74a37902",
   "metadata": {},
   "outputs": [
    {
     "data": {
      "text/plain": [
       "0    1.387136\n",
       "dtype: float64"
      ]
     },
     "execution_count": 27,
     "metadata": {},
     "output_type": "execute_result"
    }
   ],
   "source": [
    "# calculate the confidence for +\n",
    "COI_plus=X_mean + Z*(X_std/math.sqrt(n))\n",
    "COI_plus"
   ]
  },
  {
   "cell_type": "code",
   "execution_count": 28,
   "id": "9fd8c7d2-ca10-4a0d-81e4-12878a0b6d24",
   "metadata": {},
   "outputs": [
    {
     "data": {
      "text/plain": [
       "0    1.090197\n",
       "dtype: float64"
      ]
     },
     "execution_count": 28,
     "metadata": {},
     "output_type": "execute_result"
    }
   ],
   "source": [
    "# calculate the confidence for -\n",
    "COI_minus=X_mean - Z*(X_std/math.sqrt(n))\n",
    "COI_minus"
   ]
  },
  {
   "cell_type": "code",
   "execution_count": 29,
   "id": "058846aa-5750-411f-b732-a30763778d71",
   "metadata": {},
   "outputs": [
    {
     "data": {
      "text/plain": [
       "(array([1.09019734]), array([1.38713599]))"
      ]
     },
     "execution_count": 29,
     "metadata": {},
     "output_type": "execute_result"
    }
   ],
   "source": [
    "# confidence of interval using function\n",
    "COI_fun"
   ]
  },
  {
   "cell_type": "code",
   "execution_count": 31,
   "id": "4c81b641-f3bd-454f-a7da-13401b5e9d9e",
   "metadata": {},
   "outputs": [
    {
     "name": "stdout",
     "output_type": "stream",
     "text": [
      "[1.0901973384384906, 1.3871359948948425]\n"
     ]
    }
   ],
   "source": [
    "# confidence of interval using formuala \n",
    "print([COI_minus[0],COI_plus[0]])"
   ]
  },
  {
   "cell_type": "markdown",
   "id": "daa32c63-2f54-4c2a-8885-36810688eda3",
   "metadata": {},
   "source": [
    "### Explanation"
   ]
  },
  {
   "cell_type": "raw",
   "id": "c426e073-e133-4f72-af42-c8f4f4e99b1c",
   "metadata": {},
   "source": [
    "Confidence Interval = ‾X ± t(S ÷ √n)\n",
    "‾X: sample mean\n",
    "t: t is the t-score corresponding to the desired confidence level and degrees of freedom\n",
    "S: sample standard deviation\n",
    "n: sample size\n",
    "\n",
    "The steps you taken:\n",
    "step 1: Calculate mean ‾X\n",
    "step 2: degrees of freedom ie: deg_of_free = data_sample_size-1\n",
    "step 3: Find the t-score from the t-distribution table for the given confidence level (99%) and degrees of freedom (deg_of_free).\n",
    "step 4: calculate sample standard deviation i.e. S\n",
    "step 5: calculate the confidence interval by using formula ‾X ± Z(S ÷ √n)\n",
    "\n",
    "Rationale behind using the t-distribution :\n",
    "--> t-distribution should be used if the population sample size is small and the standard deviation is unknown. If not, then the normal distribution should be used.\n",
    "For this task :\n",
    "--> Sample size is 15 ie: less than 30. If the sample size is less than 30 use t test and if sample size is grater than 30 use z test for accuracy.\n"
   ]
  },
  {
   "cell_type": "markdown",
   "id": "95f1687e-2a48-4daf-aa89-fc8e219d55b7",
   "metadata": {},
   "source": [
    "### 2) Build 99% Confidence Interval Using Known Population Standard Deviation"
   ]
  },
  {
   "cell_type": "code",
   "execution_count": 32,
   "id": "4fc7d24f-075e-4ab2-b1cf-e7fdae37d6a4",
   "metadata": {},
   "outputs": [],
   "source": [
    "u=0.2"
   ]
  },
  {
   "cell_type": "code",
   "execution_count": 41,
   "id": "2bc69f70-4e6b-4ad7-9594-83119b506d32",
   "metadata": {},
   "outputs": [
    {
     "data": {
      "text/plain": [
       "2.5758293035489004"
      ]
     },
     "execution_count": 41,
     "metadata": {},
     "output_type": "execute_result"
    }
   ],
   "source": [
    "# calculate crictical value \n",
    "Z=st.norm.ppf(1-0.005)\n",
    "Z"
   ]
  },
  {
   "cell_type": "code",
   "execution_count": 42,
   "id": "c10d8add-9993-4179-80ed-47e14ac22729",
   "metadata": {},
   "outputs": [
    {
     "data": {
      "text/plain": [
       "0    1.371682\n",
       "dtype: float64"
      ]
     },
     "execution_count": 42,
     "metadata": {},
     "output_type": "execute_result"
    }
   ],
   "source": [
    "# calculate the confidence for +\n",
    "COI_plus=X_mean + Z*(u/math.sqrt(n))\n",
    "COI_plus"
   ]
  },
  {
   "cell_type": "code",
   "execution_count": 43,
   "id": "742404e1-8dad-46a0-b674-7e7f28750211",
   "metadata": {},
   "outputs": [
    {
     "data": {
      "text/plain": [
       "0    1.105651\n",
       "dtype: float64"
      ]
     },
     "execution_count": 43,
     "metadata": {},
     "output_type": "execute_result"
    }
   ],
   "source": [
    "# calculate the confidence for -\n",
    "COI_minus=X_mean - Z*(u/math.sqrt(n))\n",
    "COI_minus"
   ]
  },
  {
   "cell_type": "code",
   "execution_count": 45,
   "id": "0dd29898-0ec6-4bc0-a095-b118e0615e3d",
   "metadata": {},
   "outputs": [
    {
     "name": "stdout",
     "output_type": "stream",
     "text": [
      "[1.1056514133957607, 1.3716819199375725]\n"
     ]
    }
   ],
   "source": [
    "# confidence of interval using formuala \n",
    "print([COI_minus[0],COI_plus[0]])"
   ]
  },
  {
   "cell_type": "code",
   "execution_count": 44,
   "id": "7f9170c3-e3e8-40fe-8b68-b2c0d3f94ec5",
   "metadata": {},
   "outputs": [
    {
     "data": {
      "text/plain": [
       "(array([1.11019779]), array([1.36713554]))"
      ]
     },
     "execution_count": 44,
     "metadata": {},
     "output_type": "execute_result"
    }
   ],
   "source": [
    "# create 99% confidence interval \n",
    "COI_fun=st.norm.interval(confidence=0.99, \n",
    "              loc=X_mean,  \n",
    "              scale=st.sem(X))\n",
    "COI_fun"
   ]
  },
  {
   "cell_type": "markdown",
   "id": "2c9cc727-644a-4e1c-987e-aa2f7ce0f63f",
   "metadata": {},
   "source": [
    "### Explanation"
   ]
  },
  {
   "cell_type": "raw",
   "id": "6ce341a8-cdab-41df-b466-2efc9270c0fd",
   "metadata": {},
   "source": [
    "Confidence Interval =  ‾X ± Z(u ÷ √n)\n",
    "‾X: sample mean\n",
    "Z: The Z-value corresponds to the desired confidence level. This value comes from the standard normal distribution (Z-distribution).\n",
    "u: population standard deviation\n",
    "n: sample size"
   ]
  }
 ],
 "metadata": {
  "kernelspec": {
   "display_name": "Python 3 (ipykernel)",
   "language": "python",
   "name": "python3"
  },
  "language_info": {
   "codemirror_mode": {
    "name": "ipython",
    "version": 3
   },
   "file_extension": ".py",
   "mimetype": "text/x-python",
   "name": "python",
   "nbconvert_exporter": "python",
   "pygments_lexer": "ipython3",
   "version": "3.12.3"
  }
 },
 "nbformat": 4,
 "nbformat_minor": 5
}
